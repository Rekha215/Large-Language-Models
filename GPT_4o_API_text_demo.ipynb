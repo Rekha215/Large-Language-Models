{
  "nbformat": 4,
  "nbformat_minor": 0,
  "metadata": {
    "colab": {
      "provenance": []
    },
    "kernelspec": {
      "name": "python3",
      "display_name": "Python 3"
    },
    "language_info": {
      "name": "python"
    }
  },
  "cells": [
    {
      "cell_type": "code",
      "source": [
        "!pip install -q --upgrade openai"
      ],
      "metadata": {
        "id": "YZ5WAQ_ZTBhU"
      },
      "execution_count": 1,
      "outputs": []
    },
    {
      "cell_type": "code",
      "source": [
        "import openai\n",
        "from openai import OpenAI\n",
        "from google.colab import userdata"
      ],
      "metadata": {
        "id": "OJsju8IBTx0u"
      },
      "execution_count": 2,
      "outputs": []
    },
    {
      "cell_type": "code",
      "source": [
        "api_key = userdata.get(\"OPENAI_API_KEY\")"
      ],
      "metadata": {
        "id": "BgntyDORUIrn"
      },
      "execution_count": 3,
      "outputs": []
    },
    {
      "cell_type": "code",
      "source": [
        "client = OpenAI(api_key=api_key)"
      ],
      "metadata": {
        "id": "WXZdvLa8UZhp"
      },
      "execution_count": 4,
      "outputs": []
    },
    {
      "cell_type": "code",
      "source": [
        "response = client.chat.completions.create(\n",
        "    model = \"gpt-4o-mini\",\n",
        "    messages=[\n",
        "        {\"role\":\"system\", \"content\": \"You are an AI assistant to teach AI.\"},\n",
        "        {\"role\":\"user\", \"content\": \"How to start learning AI?\"}\n",
        "    ],\n",
        "    max_tokens=512, # Can be extened upto the origional context length - 128k tokens\n",
        "    temperature=0.7,  # Moderate creativity\n",
        ")"
      ],
      "metadata": {
        "id": "tNn8Vz1_Uf-A"
      },
      "execution_count": 5,
      "outputs": []
    },
    {
      "cell_type": "code",
      "source": [
        "response"
      ],
      "metadata": {
        "colab": {
          "base_uri": "https://localhost:8080/"
        },
        "id": "_d-sYT0xVYzI",
        "outputId": "cd304648-12ff-445d-a037-de850cdbbb64"
      },
      "execution_count": 6,
      "outputs": [
        {
          "output_type": "execute_result",
          "data": {
            "text/plain": [
              "ChatCompletion(id='chatcmpl-BdbgDMfpATke6Wpg0Ws0jApU2inhJ', choices=[Choice(finish_reason='length', index=0, logprobs=None, message=ChatCompletionMessage(content='Starting your journey in learning AI can be exciting and rewarding! Here’s a structured approach to get you started:\\n\\n### 1. Understand the Basics\\n- **Familiarize Yourself with Key Concepts**: Learn about what AI is, including concepts like machine learning, deep learning, neural networks, natural language processing, and computer vision.\\n- **Online Resources**: Websites like Coursera, edX, and Khan Academy offer introductory courses.\\n\\n### 2. Learn Programming\\n- **Choose a Programming Language**: Python is the most popular language for AI due to its simplicity and the availability of libraries.\\n- **Resources**: \\n  - Codecademy or freeCodeCamp for Python basics.\\n  - Automate the Boring Stuff with Python (book/online).\\n\\n### 3. Mathematics Foundations\\n- **Key Areas**: Focus on linear algebra, calculus, probability, and statistics as they are crucial for understanding AI algorithms.\\n- **Resources**: \\n  - Khan Academy for math basics.\\n  - “Mathematics for Machine Learning” (a free online book).\\n\\n### 4. Explore Machine Learning\\n- **ML Concepts**: Understand supervised vs. unsupervised learning, classification, regression, clustering, etc.\\n- **Courses**: \\n  - Andrew Ng’s Machine Learning course on Coursera.\\n  - “Hands-On Machine Learning with Scikit-Learn, Keras, and TensorFlow” (book).\\n\\n### 5. Dive into Deep Learning\\n- **Frameworks**: Get hands-on with popular libraries like TensorFlow or PyTorch.\\n- **Courses**: \\n  - Deep Learning Specialization by Andrew Ng on Coursera.\\n  - Fast.ai’s Practical Deep Learning for Coders.\\n\\n### 6. Work on Projects\\n- **Hands-On Practice**: Start small projects to apply what you’ve learned. Examples include:\\n  - Building a simple chatbot.\\n  - Creating a recommendation system.\\n  - Image classification with convolutional neural networks (CNNs).\\n- **Kaggle**: Participate in competitions and work on datasets to gain experience.\\n\\n### 7. Explore Specialized Areas\\n- **Natural Language Processing (NLP)**: Study how computers understand human language.\\n- **Computer Vision**: Learn how to process and analyze images and videos.\\n- **Reinforcement Learning**: Explore how agents learn to make decisions through trial and error.\\n\\n### 8. Join a Community\\n- **Forums and Meetups**: Engage with communities on platforms like GitHub, Stack Overflow, Reddit', refusal=None, role='assistant', annotations=[], audio=None, function_call=None, tool_calls=None))], created=1748779333, model='gpt-4o-mini-2024-07-18', object='chat.completion', service_tier='default', system_fingerprint='fp_62a23a81ef', usage=CompletionUsage(completion_tokens=512, prompt_tokens=26, total_tokens=538, completion_tokens_details=CompletionTokensDetails(accepted_prediction_tokens=0, audio_tokens=0, reasoning_tokens=0, rejected_prediction_tokens=0), prompt_tokens_details=PromptTokensDetails(audio_tokens=0, cached_tokens=0)))"
            ]
          },
          "metadata": {},
          "execution_count": 6
        }
      ]
    },
    {
      "cell_type": "code",
      "source": [
        "response.choices[0].message.content"
      ],
      "metadata": {
        "colab": {
          "base_uri": "https://localhost:8080/",
          "height": 254
        },
        "id": "5KPt1ZIgWNEB",
        "outputId": "e12a6a82-3c7c-4d18-bf09-1ebabe4e2fd6"
      },
      "execution_count": 7,
      "outputs": [
        {
          "output_type": "execute_result",
          "data": {
            "text/plain": [
              "'Starting your journey in learning AI can be exciting and rewarding! Here’s a structured approach to get you started:\\n\\n### 1. Understand the Basics\\n- **Familiarize Yourself with Key Concepts**: Learn about what AI is, including concepts like machine learning, deep learning, neural networks, natural language processing, and computer vision.\\n- **Online Resources**: Websites like Coursera, edX, and Khan Academy offer introductory courses.\\n\\n### 2. Learn Programming\\n- **Choose a Programming Language**: Python is the most popular language for AI due to its simplicity and the availability of libraries.\\n- **Resources**: \\n  - Codecademy or freeCodeCamp for Python basics.\\n  - Automate the Boring Stuff with Python (book/online).\\n\\n### 3. Mathematics Foundations\\n- **Key Areas**: Focus on linear algebra, calculus, probability, and statistics as they are crucial for understanding AI algorithms.\\n- **Resources**: \\n  - Khan Academy for math basics.\\n  - “Mathematics for Machine Learning” (a free online book).\\n\\n### 4. Explore Machine Learning\\n- **ML Concepts**: Understand supervised vs. unsupervised learning, classification, regression, clustering, etc.\\n- **Courses**: \\n  - Andrew Ng’s Machine Learning course on Coursera.\\n  - “Hands-On Machine Learning with Scikit-Learn, Keras, and TensorFlow” (book).\\n\\n### 5. Dive into Deep Learning\\n- **Frameworks**: Get hands-on with popular libraries like TensorFlow or PyTorch.\\n- **Courses**: \\n  - Deep Learning Specialization by Andrew Ng on Coursera.\\n  - Fast.ai’s Practical Deep Learning for Coders.\\n\\n### 6. Work on Projects\\n- **Hands-On Practice**: Start small projects to apply what you’ve learned. Examples include:\\n  - Building a simple chatbot.\\n  - Creating a recommendation system.\\n  - Image classification with convolutional neural networks (CNNs).\\n- **Kaggle**: Participate in competitions and work on datasets to gain experience.\\n\\n### 7. Explore Specialized Areas\\n- **Natural Language Processing (NLP)**: Study how computers understand human language.\\n- **Computer Vision**: Learn how to process and analyze images and videos.\\n- **Reinforcement Learning**: Explore how agents learn to make decisions through trial and error.\\n\\n### 8. Join a Community\\n- **Forums and Meetups**: Engage with communities on platforms like GitHub, Stack Overflow, Reddit'"
            ],
            "application/vnd.google.colaboratory.intrinsic+json": {
              "type": "string"
            }
          },
          "metadata": {},
          "execution_count": 7
        }
      ]
    }
  ]
}