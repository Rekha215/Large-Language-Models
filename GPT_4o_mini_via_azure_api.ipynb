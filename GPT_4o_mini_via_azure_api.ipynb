{
  "nbformat": 4,
  "nbformat_minor": 0,
  "metadata": {
    "colab": {
      "provenance": []
    },
    "kernelspec": {
      "name": "python3",
      "display_name": "Python 3"
    },
    "language_info": {
      "name": "python"
    }
  },
  "cells": [
    {
      "cell_type": "markdown",
      "source": [
        "## **Psychiatric Domain AI Assistant**\n",
        "\n",
        "This is an example code to interact with the Azure OpenAI API for building an AI assistant specialized in the psychiatric domain.\n",
        "\n",
        "---\n",
        "Before running the code, you need to set the following environment variables in your local environment or Google Colab:\n",
        "\n",
        "- `AZURE_API_KEY` — Your Azure OpenAI API key.\n",
        "- `AZURE_ENDPOINT` — Your Azure OpenAI endpoint URL.\n"
      ],
      "metadata": {
        "id": "KM7FWrHNDwMN"
      }
    },
    {
      "cell_type": "code",
      "source": [
        "import os\n",
        "from openai import AzureOpenAI\n",
        "from google.colab import userdata\n",
        "\n",
        "api_key = userdata.get(\"AZURE_API_KEY\")\n",
        "azure_endpoint = userdata.get(\"AZURE_ENDPOINT\")\n",
        "\n",
        "client = AzureOpenAI(\n",
        "  api_key = api_key,\n",
        "  api_version = \"2024-10-21\",\n",
        "  azure_endpoint = azure_endpoint\n",
        ")\n",
        "\n",
        "response = client.chat.completions.create(\n",
        "    model=\"gpt-4o-mini\", # model = \"deployment_name\".\n",
        "    messages=[\n",
        "        {\"role\": \"system\", \"content\": \"You are an AI assistant designed to understand the psychiatric domain.\"},\n",
        "        {\"role\": \"user\", \"content\": \"Explain the criteria for Bipolar Disorder I (BPD I).\"}\n",
        "    ],\n",
        "    max_tokens=128,\n",
        "    temperature=0.6\n",
        ")\n",
        "\n",
        "print(response.choices[0].message.content)"
      ],
      "metadata": {
        "colab": {
          "base_uri": "https://localhost:8080/"
        },
        "id": "os8C-_CQABG0",
        "outputId": "391f7623-1d33-49ff-eea5-d37ef93c4e00"
      },
      "execution_count": 4,
      "outputs": [
        {
          "output_type": "stream",
          "name": "stdout",
          "text": [
            "Bipolar Disorder I (BD-I) is characterized by the occurrence of at least one manic episode. The diagnostic criteria for a manic episode, as outlined in the Diagnostic and Statistical Manual of Mental Disorders (DSM-5), include the following:\n",
            "\n",
            "1. **Duration**: The manic episode must last at least one week (or any duration if hospitalization is necessary).\n",
            "\n",
            "2. **Mood Changes**: The episode is marked by a distinct period of abnormally and persistently elevated, expansive, or irritable mood.\n",
            "\n",
            "3. **Increased Activity or Energy**: During this period, there is an increase in goal-directed activity or energy.\n",
            "\n",
            "\n"
          ]
        }
      ]
    }
  ]
}